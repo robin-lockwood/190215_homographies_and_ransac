{
 "cells": [
  {
   "cell_type": "markdown",
   "metadata": {},
   "source": [
    "# Image Stitching:  The final step\n",
    "Reading: Szeliski 6.1, 9.1\n",
    "\n",
    "## Homographies\n",
    "\n",
    "We have successfully made our way through all the steps of image stitching save one.  We have detected keypoints from two images (called image 1 and image 2), generated descriptors, matched them together, and now all we need to do is to determine the way in which we need to move one image (let's call it image 2) such that its pixel intensity information is in *the same coordinate system as image 1*.  \n",
    "\n",
    "As it turns out, under a very specific assumption about the motion of the camera between images, this transformation is a linear operation called a *homography*.  To see exactly what this operation does, let's reference the following image:\n",
    "\n",
    "<img src=\"homography.jpg\">\n",
    "\n",
    "In this image, the blue points are *things* out in the real world, perhaps ones that we've identified as corners and come up with descriptors for.  We'll assume that we've already solved the problem of correspondence: if we see a corner in both images, we have successfully matched it.  These corners reflect light and send out a ray (blue line) which impacts the effective focal plane of the camera.  In the figure, these impacts are denoted by an X in a color corresponding to the image whose focal plane was impacted.  What we need to do is to determine where corners that impacted the second image would have impacted the focal plane of the first image *if that first image had its sensor synthetically extended*, i.e. what are the coordinates of that black question mark?  We can determine this mapping by looking at the points for which we have correspondences.\n",
    "\n",
    "As it turns out, the transformation from one 2D plane embedded in 3D to another obeys a linear transformation called a *homography*.  A homography is a linear transformation that preserves straight lines (and nothing else).  It occupies the most expressive position on a continuum that ranges from simple rotation (governed by one parameter), to rotation-translations (which preserve scale and relative orientation and position of points), to affine transformations (which preserve scale and parallelity), to homographies (which only preserve straight lines).  We can define it as\n",
    "$$\n",
    "\\begin{bmatrix} x' \\\\ y' \\\\ w' \\end{bmatrix} = \\begin{bmatrix} h_{11} & h_{12} & h_{13}\\\\\n",
    "                                                               h_{21} & h_{22} & h_{23}\\\\\n",
    "                                                               h_{31} & h_{32} & h_{33} \\end{bmatrix} \n",
    "                                                               \\begin{bmatrix} u \\\\\n",
    "                                                                               v \\\\\n",
    "                                                                               1 \\end{bmatrix}\n",
    "$$                                                               \n",
    "Note that this makes use of generalized coordinates: after the transformation, we need to divide: $u' = x'/w'$ and $v' = y'/w'$.  What does a homography do?  Here is an example of a random homography on the unit square:\n"
   ]
  },
  {
   "cell_type": "code",
   "execution_count": 61,
   "metadata": {},
   "outputs": [
    {
     "data": {
      "image/png": "[encoded data removed]",
      "text/plain": [
       "<Figure size 432x288 with 1 Axes>"
      ]
     },
     "metadata": {
      "needs_background": "light"
     },
     "output_type": "display_data"
    }
   ],
   "source": [
    "import numpy as np\n",
    "import matplotlib.pyplot as plt\n",
    "\n",
    "\n",
    "X = np.array([[0,0,1],\n",
    "              [1,0,1],\n",
    "              [1,1,1],\n",
    "              [0,1,1],\n",
    "              [0,0,1]])\n",
    "\n",
    "H = np.random.rand(3,3)\n",
    "#H/= H[2,2]\n",
    "\n",
    "Xprime = (H @ X.T).T\n",
    "Xprime/=Xprime[:,2][:,np.newaxis]\n",
    "\n",
    "\n",
    "plt.plot(X[:,0],X[:,1],'g-')\n",
    "plt.plot(Xprime[:,0],Xprime[:,1],'b-')\n",
    "plt.show()"
   ]
  },
  {
   "cell_type": "markdown",
   "metadata": {},
   "source": [
    "How do we solve for this thing given our point correspondences?  We need an equation for the eight unknowns in the matrix $H$.  By doing some algebra, we find that we can generate a linear system of equations for the coefficients of $H$:\n",
    "$$\n",
    "A \\vec{h} = 0,\n",
    "$$\n",
    "where\n",
    "$$\n",
    "\\vec{h} = \\begin{bmatrix} h_{11}, h_{12}, \\ldots, h_{32}, h_{33} \\end{bmatrix}\n",
    "$$\n",
    "and \n",
    "$$\n",
    "A = \\begin{bmatrix}  0 & 0 & 0 & -u_1 & -v_1 & -1 & v_1' u_1 & v'_1 v_1& v'_1 \\\\\n",
    "                     u_1 & v_1 & 1 &  0   & 0    &  0 & -u'_1 u_1 & -u'_1 v_1 & -u'_1 \\\\\n",
    "                     \\vdots & \\ddots & & & & & & & \\vdots \\\\\n",
    "                     0 & 0 & 0 & -u_n & -v_n & -1 & v_n' u_n & v'_n v_n& v'_n \\\\\n",
    "                     u_n & v_n & 1 &  0   & 0    &  0 & -u'_n u_n & -u'_n v_n & -u'_n \\end{bmatrix}\n",
    "$$                     "
   ]
  },
  {
   "cell_type": "markdown",
   "metadata": {},
   "source": [
    "Note that for this matrix problem to be well-posed, $n$ (the number of correspondences) must equal 4.  Even still, this system is singular: this is because $h$ is only really defined up to a constant.  Thus, the entries of $h$ are in the nullspace of $A$.  Fortunately, finding this nullspace is easy: take the singular value decomposition of $A$, i.e.\n",
    "$$\n",
    "SVD(A) = U \\Sigma V^T.\n",
    "$$\n",
    "If the singular values (the entries in $\\Sigma$) are in descending order (as they usually are), then the nullspace of $A$ is given by the corresponding vector in $V$, or the bottom row in $V^T$.  \n",
    "\n",
    "As it turns out this SVD-based method for finding the nullspace is also applicable when $n>4$, e.g. we have more correspondences than the requisite 4.  In the case of this overdetermined system, there won'd be a nullspace, but the optimal solution for the homography matrix is still given by the column in $V$ that corresponds to the smallest singular valuem, and there is no change to the routine (except that $A$ has more rows). \n",
    "\n",
    "**Your assignment is to generate code that takes a set of point correspondences $\\{(u_i,v_i, u'_i,v'_i)\\}$ for $i$ in $n$, and solves for the homography matrix between them.  You can directly apply this to the matches that you've found via your stitching code so far, but you will find that this procedure is extremely sensitive to outliers.  To determine if your code is working properly, use the synthetic correspondences generated in the homography demo above to recover the matrix $H$ from $X$ and $X'$.**"
   ]
  },
  {
   "cell_type": "code",
   "execution_count": 72,
   "metadata": {},
   "outputs": [
    {
     "name": "stdout",
     "output_type": "stream",
     "text": [
      "H\n",
      " [[0.83859402 0.56947081 0.96297669]\n",
      " [0.88077974 0.8318261  0.16763517]\n",
      " [0.60323847 0.98869143 0.23425174]]\n",
      "FuncH\n",
      " [[0.38090566 0.25866468 0.43740268]\n",
      " [0.40006723 0.37783154 0.07614315]\n",
      " [0.27400261 0.44908281 0.10640168]]\n"
     ]
    }
   ],
   "source": [
    "debug = False #Swap to toggle debug print statements on (Speed impact is negligible since none are in a loop)\n",
    "def get_H(original, primes,n):\n",
    "    A = []\n",
    "    #Create two rows of A for every correspondence. Done as list for easy appending then turned into NP Array  \n",
    "    for i in range(0,n):\n",
    "        #First row\n",
    "        A.append([0,0,0,(-1*original[i][0]),(-1*original[i][1]),-1,\n",
    "                  (primes[i][1] * original[i][0]),(primes[i][1] * original[i][1]),primes[i][1]])\n",
    "        #Second row\n",
    "        A.append([original[i][0],original[i][1],1,0,0,0,\n",
    "                  ((-1*primes[i][0]) * original[i][0]),((-1*primes[i][0]) * original[i][1]),(-1*primes[i][0])])\n",
    "    A = np.array(A)\n",
    "    U,Sigma,Vt = np.linalg.svd(A)\n",
    "    if debug:\n",
    "        print(\"A\\n\",A)\n",
    "        print(\"Vt\\n\",Vt)\n",
    "    return np.reshape(np.array(Vt[-1]),(3,3))\n",
    "\n",
    "#Extract u,v,u',v' from matrices\n",
    "UV = X[:, [0, 1]]\n",
    "UVprime = Xprime[:, [0, 1]]\n",
    "\n",
    "if debug:\n",
    "    print(\"UV\\n\",UV)\n",
    "    print(\"UVprime\\n\",UVprime)\n",
    "\n",
    "FuncH = get_H(UV, UVprime, 5)\n",
    "#Always output these to verify correctness\n",
    "print(\"H\\n\",H)\n",
    "print(\"FuncH\\n\",FuncH)"
   ]
  },
  {
   "cell_type": "code",
   "execution_count": null,
   "metadata": {},
   "outputs": [],
   "source": []
  }
 ],
 "metadata": {
  "kernelspec": {
   "display_name": "Python 3",
   "language": "python",
   "name": "python3"
  },
  "language_info": {
   "codemirror_mode": {
    "name": "ipython",
    "version": 3
   },
   "file_extension": ".py",
   "mimetype": "text/x-python",
   "name": "python",
   "nbconvert_exporter": "python",
   "pygments_lexer": "ipython3",
   "version": "3.5.2"
  }
 },
 "nbformat": 4,
 "nbformat_minor": 2
}
